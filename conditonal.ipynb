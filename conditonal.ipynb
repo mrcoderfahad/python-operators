{
 "cells": [
  {
   "cell_type": "code",
   "execution_count": 16,
   "metadata": {},
   "outputs": [
    {
     "name": "stdout",
     "output_type": "stream",
     "text": [
      "This person Can Found a Credit Card\n",
      "This person is good to create a account\n",
      "outside if\n"
     ]
    }
   ],
   "source": [
    "age = 24\n",
    "salary = 50000\n",
    "if age >= 18:\n",
    "    if salary >= 50000:\n",
    "        print('This person Can Found a Credit Card')\n",
    "    print('This person is good to create a account')\n",
    "    print('outside if')\n"
   ]
  },
  {
   "cell_type": "code",
   "execution_count": 21,
   "metadata": {},
   "outputs": [
    {
     "name": "stdout",
     "output_type": "stream",
     "text": [
      "You are Eligable for Credit Card\n",
      "outside if\n"
     ]
    }
   ],
   "source": [
    "# Nested Statements\n",
    "age = 24\n",
    "salary = 50000\n",
    "if (age >= 18) and (salary >= 40000):\n",
    "    print('You are Eligable for Credit Card')\n",
    "    print('outside if')"
   ]
  },
  {
   "cell_type": "code",
   "execution_count": 31,
   "metadata": {},
   "outputs": [
    {
     "name": "stdout",
     "output_type": "stream",
     "text": [
      "Not Eligible For Anything\n"
     ]
    }
   ],
   "source": [
    "# If Else Nad Elif\n",
    "age = 14\n",
    "salary = 50000\n",
    "if (age >= 18) and (salary >= 40000):\n",
    "    print('Eligable for Credit Card')\n",
    "elif age >= 18:\n",
    "    print('Eligable For Debit Card')\n",
    "elif age>=15:\n",
    "    print('Eligible For Green Card')\n",
    "else:\n",
    "    print('Not Eligible For Anything')"
   ]
  },
  {
   "cell_type": "code",
   "execution_count": null,
   "metadata": {},
   "outputs": [],
   "source": [
    "# Tenrnary Operation"
   ]
  },
  {
   "cell_type": "code",
   "execution_count": 37,
   "metadata": {},
   "outputs": [
    {
     "name": "stdout",
     "output_type": "stream",
     "text": [
      "Even\n"
     ]
    }
   ],
   "source": [
    "num = 6\n",
    "if not (num&1):\n",
    "    print('Even')\n",
    "else:\n",
    "    print('Odd')"
   ]
  },
  {
   "cell_type": "code",
   "execution_count": 52,
   "metadata": {},
   "outputs": [
    {
     "name": "stdout",
     "output_type": "stream",
     "text": [
      "Even\n"
     ]
    }
   ],
   "source": [
    "num = 2\n",
    "print('Even') if num%1 == 0 else print('Odd')\n",
    "res = 'Even' if num%2 ==0 else 'Odd'"
   ]
  },
  {
   "cell_type": "code",
   "execution_count": 57,
   "metadata": {},
   "outputs": [
    {
     "data": {
      "text/plain": [
       "100"
      ]
     },
     "execution_count": 57,
     "metadata": {},
     "output_type": "execute_result"
    }
   ],
   "source": [
    "a, b ,c  = 4, 6,100\n",
    "large = a if ((a>b) and (a>c)) else (b if ((b>a) and (b>c)) else c)\n",
    "large"
   ]
  }
 ],
 "metadata": {
  "kernelspec": {
   "display_name": "Python 3.10.7 64-bit",
   "language": "python",
   "name": "python3"
  },
  "language_info": {
   "codemirror_mode": {
    "name": "ipython",
    "version": 3
   },
   "file_extension": ".py",
   "mimetype": "text/x-python",
   "name": "python",
   "nbconvert_exporter": "python",
   "pygments_lexer": "ipython3",
   "version": "3.10.7"
  },
  "orig_nbformat": 4,
  "vscode": {
   "interpreter": {
    "hash": "c19fa61d258bb2b35aae2ada233c33e2817c1ce895aa48acba720c6bf7cbe3cb"
   }
  }
 },
 "nbformat": 4,
 "nbformat_minor": 2
}
